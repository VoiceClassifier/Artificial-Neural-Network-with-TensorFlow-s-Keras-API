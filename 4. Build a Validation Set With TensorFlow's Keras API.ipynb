{
 "cells": [
  {
   "cell_type": "code",
   "execution_count": 16,
   "metadata": {},
   "outputs": [
    {
     "name": "stdout",
     "output_type": "stream",
     "text": [
      "Train on 1890 samples, validate on 210 samples\n",
      "Epoch 1/30\n",
      "1890/1890 - 1s - loss: 0.2593 - accuracy: 0.9402 - val_loss: 0.2596 - val_accuracy: 0.9333\n",
      "Epoch 2/30\n",
      "1890/1890 - 1s - loss: 0.2585 - accuracy: 0.9376 - val_loss: 0.2604 - val_accuracy: 0.9333\n",
      "Epoch 3/30\n",
      "1890/1890 - 1s - loss: 0.2576 - accuracy: 0.9434 - val_loss: 0.2577 - val_accuracy: 0.9333\n",
      "Epoch 4/30\n",
      "1890/1890 - 1s - loss: 0.2566 - accuracy: 0.9413 - val_loss: 0.2581 - val_accuracy: 0.9333\n",
      "Epoch 5/30\n",
      "1890/1890 - 1s - loss: 0.2559 - accuracy: 0.9450 - val_loss: 0.2557 - val_accuracy: 0.9333\n",
      "Epoch 6/30\n",
      "1890/1890 - 1s - loss: 0.2553 - accuracy: 0.9365 - val_loss: 0.2569 - val_accuracy: 0.9333\n",
      "Epoch 7/30\n",
      "1890/1890 - 1s - loss: 0.2545 - accuracy: 0.9418 - val_loss: 0.2567 - val_accuracy: 0.9333\n",
      "Epoch 8/30\n",
      "1890/1890 - 1s - loss: 0.2538 - accuracy: 0.9418 - val_loss: 0.2555 - val_accuracy: 0.9333\n",
      "Epoch 9/30\n",
      "1890/1890 - 1s - loss: 0.2532 - accuracy: 0.9418 - val_loss: 0.2552 - val_accuracy: 0.9333\n",
      "Epoch 10/30\n",
      "1890/1890 - 1s - loss: 0.2526 - accuracy: 0.9418 - val_loss: 0.2556 - val_accuracy: 0.9333\n",
      "Epoch 11/30\n",
      "1890/1890 - 1s - loss: 0.2522 - accuracy: 0.9413 - val_loss: 0.2556 - val_accuracy: 0.9333\n",
      "Epoch 12/30\n",
      "1890/1890 - 1s - loss: 0.2515 - accuracy: 0.9418 - val_loss: 0.2540 - val_accuracy: 0.9333\n",
      "Epoch 13/30\n",
      "1890/1890 - 1s - loss: 0.2511 - accuracy: 0.9397 - val_loss: 0.2548 - val_accuracy: 0.9333\n",
      "Epoch 14/30\n",
      "1890/1890 - 1s - loss: 0.2506 - accuracy: 0.9418 - val_loss: 0.2538 - val_accuracy: 0.9333\n",
      "Epoch 15/30\n",
      "1890/1890 - 1s - loss: 0.2500 - accuracy: 0.9418 - val_loss: 0.2536 - val_accuracy: 0.9333\n",
      "Epoch 16/30\n",
      "1890/1890 - 1s - loss: 0.2496 - accuracy: 0.9418 - val_loss: 0.2532 - val_accuracy: 0.9333\n",
      "Epoch 17/30\n",
      "1890/1890 - 1s - loss: 0.2491 - accuracy: 0.9418 - val_loss: 0.2525 - val_accuracy: 0.9333\n",
      "Epoch 18/30\n",
      "1890/1890 - 1s - loss: 0.2489 - accuracy: 0.9418 - val_loss: 0.2529 - val_accuracy: 0.9333\n",
      "Epoch 19/30\n",
      "1890/1890 - 1s - loss: 0.2484 - accuracy: 0.9418 - val_loss: 0.2520 - val_accuracy: 0.9333\n",
      "Epoch 20/30\n",
      "1890/1890 - 1s - loss: 0.2481 - accuracy: 0.9418 - val_loss: 0.2525 - val_accuracy: 0.9333\n",
      "Epoch 21/30\n",
      "1890/1890 - 1s - loss: 0.2477 - accuracy: 0.9418 - val_loss: 0.2523 - val_accuracy: 0.9333\n",
      "Epoch 22/30\n",
      "1890/1890 - 1s - loss: 0.2475 - accuracy: 0.9434 - val_loss: 0.2518 - val_accuracy: 0.9333\n",
      "Epoch 23/30\n",
      "1890/1890 - 1s - loss: 0.2472 - accuracy: 0.9418 - val_loss: 0.2516 - val_accuracy: 0.9333\n",
      "Epoch 24/30\n",
      "1890/1890 - 1s - loss: 0.2469 - accuracy: 0.9439 - val_loss: 0.2503 - val_accuracy: 0.9333\n",
      "Epoch 25/30\n",
      "1890/1890 - 1s - loss: 0.2464 - accuracy: 0.9418 - val_loss: 0.2497 - val_accuracy: 0.9333\n",
      "Epoch 26/30\n",
      "1890/1890 - 1s - loss: 0.2459 - accuracy: 0.9418 - val_loss: 0.2501 - val_accuracy: 0.9333\n",
      "Epoch 27/30\n",
      "1890/1890 - 1s - loss: 0.2457 - accuracy: 0.9460 - val_loss: 0.2494 - val_accuracy: 0.9333\n",
      "Epoch 28/30\n",
      "1890/1890 - 1s - loss: 0.2454 - accuracy: 0.9418 - val_loss: 0.2484 - val_accuracy: 0.9333\n",
      "Epoch 29/30\n",
      "1890/1890 - 1s - loss: 0.2453 - accuracy: 0.9418 - val_loss: 0.2484 - val_accuracy: 0.9333\n",
      "Epoch 30/30\n",
      "1890/1890 - 0s - loss: 0.2450 - accuracy: 0.9466 - val_loss: 0.2493 - val_accuracy: 0.9429\n"
     ]
    },
    {
     "data": {
      "text/plain": [
       "<tensorflow.python.keras.callbacks.History at 0x1a9e0f747c8>"
      ]
     },
     "execution_count": 16,
     "metadata": {},
     "output_type": "execute_result"
    }
   ],
   "source": [
    "model.fit(x=X_train, y=y_train, validation_split= 0.1, batch_size=10, epochs=30, shuffle=True, verbose=2)"
   ]
  }
 ],
 "metadata": {
  "kernelspec": {
   "display_name": "Python 3",
   "language": "python",
   "name": "python3"
  },
  "language_info": {
   "codemirror_mode": {
    "name": "ipython",
    "version": 3
   },
   "file_extension": ".py",
   "mimetype": "text/x-python",
   "name": "python",
   "nbconvert_exporter": "python",
   "pygments_lexer": "ipython3",
   "version": "3.7.4"
  }
 },
 "nbformat": 4,
 "nbformat_minor": 2
}
