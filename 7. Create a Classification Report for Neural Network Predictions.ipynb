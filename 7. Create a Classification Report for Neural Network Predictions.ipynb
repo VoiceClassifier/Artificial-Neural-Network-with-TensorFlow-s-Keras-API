{
 "cells": [
  {
   "cell_type": "markdown",
   "metadata": {},
   "source": [
    "# Classification Report"
   ]
  },
  {
   "cell_type": "code",
   "execution_count": 32,
   "metadata": {},
   "outputs": [
    {
     "name": "stdout",
     "output_type": "stream",
     "text": [
      "              precision    recall  f1-score   support\n",
      "\n",
      "           0       0.95      0.95      0.95       210\n",
      "           1       0.95      0.95      0.95       210\n",
      "\n",
      "    accuracy                           0.95       420\n",
      "   macro avg       0.95      0.95      0.95       420\n",
      "weighted avg       0.95      0.95      0.95       420\n",
      "\n"
     ]
    }
   ],
   "source": [
    "from sklearn.metrics import classification_report\n",
    "print(classification_report(y_test, y_pred))"
   ]
  },
  {
   "cell_type": "code",
   "execution_count": 33,
   "metadata": {},
   "outputs": [
    {
     "name": "stdout",
     "output_type": "stream",
     "text": [
      "Accuracy of the Artificial Neural Network model on the test set: 95.24%\n",
      "\n",
      "Well, you got a classification rate of 95.24%\n"
     ]
    }
   ],
   "source": [
    "#calculate Accuracy, how often is the classifier correct?\n",
    "print(\"Accuracy of the Artificial Neural Network model on the test set:\", \"{:.2%}\".format(metrics.accuracy_score(y_test, y_pred)))\n",
    "print(\"\\nWell, you got a classification rate of\", \"{:.2%}\".format(metrics.accuracy_score(y_test, y_pred)))"
   ]
  },
  {
   "cell_type": "code",
   "execution_count": 34,
   "metadata": {},
   "outputs": [
    {
     "name": "stdout",
     "output_type": "stream",
     "text": [
      "Precision of the Artificial Neural Network model: 95.24%\n",
      "\n",
      "Precision: Precision is about being precise, i.e., how precise our model is. In other words, we can say, when a model makes a prediction, how often it is correct. In our prediction case, when our Artificial Neural Network model predicted a patient will experience side effect, that patient actually did 95.24% of the time.\n"
     ]
    }
   ],
   "source": [
    "#calculate Precision\n",
    "print(\"Precision of the Artificial Neural Network model:\", \"{:.2%}\".format(metrics.precision_score(y_test, y_pred)))\n",
    "print(\"\\nPrecision: Precision is about being precise, i.e., how precise our model is. In other words, we can say, when a model makes a prediction, how often it is correct. In our prediction case, when our Artificial Neural Network model predicted a patient will experience side effect, that patient actually did\", \"{:.2%}\".format(metrics.precision_score(y_test, y_pred)) ,\"of the time.\")"
   ]
  },
  {
   "cell_type": "code",
   "execution_count": 35,
   "metadata": {},
   "outputs": [
    {
     "name": "stdout",
     "output_type": "stream",
     "text": [
      "Recall of the Artificial Neural Network model: 95.24%\n",
      "\n",
      "Recall: If there is a patient which experienced side effect in the test set, our Artificial Neural Network model can identify it 95.24% of the time.\n"
     ]
    }
   ],
   "source": [
    "#calculate Recall\n",
    "print(\"Recall of the Artificial Neural Network model:\", \"{:.2%}\".format(metrics.recall_score(y_test, y_pred)))\n",
    "print(\"\\nRecall: If there is a patient which experienced side effect in the test set, our Artificial Neural Network model can identify it\", \"{:.2%}\".format(metrics.recall_score(y_test, y_pred)) ,\"of the time.\")"
   ]
  }
 ],
 "metadata": {
  "kernelspec": {
   "display_name": "Python 3",
   "language": "python",
   "name": "python3"
  },
  "language_info": {
   "codemirror_mode": {
    "name": "ipython",
    "version": 3
   },
   "file_extension": ".py",
   "mimetype": "text/x-python",
   "name": "python",
   "nbconvert_exporter": "python",
   "pygments_lexer": "ipython3",
   "version": "3.7.4"
  }
 },
 "nbformat": 4,
 "nbformat_minor": 2
}
