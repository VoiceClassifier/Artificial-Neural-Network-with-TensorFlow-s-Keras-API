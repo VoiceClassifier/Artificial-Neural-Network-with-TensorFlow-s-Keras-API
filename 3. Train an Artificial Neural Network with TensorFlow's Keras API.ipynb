{
 "cells": [
  {
   "cell_type": "code",
   "execution_count": 13,
   "metadata": {},
   "outputs": [],
   "source": [
    "model.compile(optimizer=Adam(learning_rate=0.0001), loss='sparse_categorical_crossentropy', metrics=['accuracy'])"
   ]
  },
  {
   "cell_type": "code",
   "execution_count": 14,
   "metadata": {},
   "outputs": [],
   "source": [
    "X_train = scaler_train_samples\n",
    "y_train = train_labels"
   ]
  },
  {
   "cell_type": "code",
   "execution_count": 15,
   "metadata": {},
   "outputs": [
    {
     "name": "stdout",
     "output_type": "stream",
     "text": [
      "Train on 2100 samples\n",
      "Epoch 1/30\n",
      "2100/2100 - 1s - loss: 0.6379 - accuracy: 0.5610\n",
      "Epoch 2/30\n",
      "2100/2100 - 0s - loss: 0.6058 - accuracy: 0.6433\n",
      "Epoch 3/30\n",
      "2100/2100 - 0s - loss: 0.5709 - accuracy: 0.7248\n",
      "Epoch 4/30\n",
      "2100/2100 - 0s - loss: 0.5380 - accuracy: 0.7733\n",
      "Epoch 5/30\n",
      "2100/2100 - 1s - loss: 0.5034 - accuracy: 0.8048\n",
      "Epoch 6/30\n",
      "2100/2100 - 1s - loss: 0.4675 - accuracy: 0.8410\n",
      "Epoch 7/30\n",
      "2100/2100 - 1s - loss: 0.4339 - accuracy: 0.8562\n",
      "Epoch 8/30\n",
      "2100/2100 - 1s - loss: 0.4040 - accuracy: 0.8733\n",
      "Epoch 9/30\n",
      "2100/2100 - 1s - loss: 0.3779 - accuracy: 0.8881\n",
      "Epoch 10/30\n",
      "2100/2100 - 1s - loss: 0.3558 - accuracy: 0.8981\n",
      "Epoch 11/30\n",
      "2100/2100 - 1s - loss: 0.3379 - accuracy: 0.9048\n",
      "Epoch 12/30\n",
      "2100/2100 - 1s - loss: 0.3234 - accuracy: 0.9143\n",
      "Epoch 13/30\n",
      "2100/2100 - 1s - loss: 0.3119 - accuracy: 0.9167\n",
      "Epoch 14/30\n",
      "2100/2100 - 1s - loss: 0.3030 - accuracy: 0.9200\n",
      "Epoch 15/30\n",
      "2100/2100 - 0s - loss: 0.2956 - accuracy: 0.9252\n",
      "Epoch 16/30\n",
      "2100/2100 - 1s - loss: 0.2900 - accuracy: 0.9229\n",
      "Epoch 17/30\n",
      "2100/2100 - 1s - loss: 0.2849 - accuracy: 0.9262\n",
      "Epoch 18/30\n",
      "2100/2100 - 1s - loss: 0.2812 - accuracy: 0.9319\n",
      "Epoch 19/30\n",
      "2100/2100 - 1s - loss: 0.2780 - accuracy: 0.9290\n",
      "Epoch 20/30\n",
      "2100/2100 - 1s - loss: 0.2755 - accuracy: 0.9352\n",
      "Epoch 21/30\n",
      "2100/2100 - 1s - loss: 0.2730 - accuracy: 0.9286\n",
      "Epoch 22/30\n",
      "2100/2100 - 1s - loss: 0.2712 - accuracy: 0.9343\n",
      "Epoch 23/30\n",
      "2100/2100 - 1s - loss: 0.2692 - accuracy: 0.9348\n",
      "Epoch 24/30\n",
      "2100/2100 - 1s - loss: 0.2678 - accuracy: 0.9343\n",
      "Epoch 25/30\n",
      "2100/2100 - 1s - loss: 0.2664 - accuracy: 0.9333\n",
      "Epoch 26/30\n",
      "2100/2100 - 1s - loss: 0.2651 - accuracy: 0.9357\n",
      "Epoch 27/30\n",
      "2100/2100 - 1s - loss: 0.2637 - accuracy: 0.9357\n",
      "Epoch 28/30\n",
      "2100/2100 - 1s - loss: 0.2626 - accuracy: 0.9376\n",
      "Epoch 29/30\n",
      "2100/2100 - 1s - loss: 0.2615 - accuracy: 0.9338\n",
      "Epoch 30/30\n",
      "2100/2100 - 1s - loss: 0.2604 - accuracy: 0.9371\n"
     ]
    },
    {
     "data": {
      "text/plain": [
       "<tensorflow.python.keras.callbacks.History at 0x1a9e0aa8588>"
      ]
     },
     "execution_count": 15,
     "metadata": {},
     "output_type": "execute_result"
    }
   ],
   "source": [
    "model.fit(x=X_train, y=y_train, batch_size=10, epochs=30, shuffle=True, verbose=2)"
   ]
  }
 ],
 "metadata": {
  "kernelspec": {
   "display_name": "Python 3",
   "language": "python",
   "name": "python3"
  },
  "language_info": {
   "codemirror_mode": {
    "name": "ipython",
    "version": 3
   },
   "file_extension": ".py",
   "mimetype": "text/x-python",
   "name": "python",
   "nbconvert_exporter": "python",
   "pygments_lexer": "ipython3",
   "version": "3.7.4"
  }
 },
 "nbformat": 4,
 "nbformat_minor": 2
}
